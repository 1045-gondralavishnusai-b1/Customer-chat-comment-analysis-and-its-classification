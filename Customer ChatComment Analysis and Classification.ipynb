{
 "cells": [
  {
   "cell_type": "code",
   "execution_count": 1,
   "metadata": {},
   "outputs": [],
   "source": [
    "import pandas as pd"
   ]
  },
  {
   "cell_type": "code",
   "execution_count": 2,
   "metadata": {},
   "outputs": [],
   "source": [
    "data = pd.read_excel('append1.xlsx')"
   ]
  },
  {
   "cell_type": "code",
   "execution_count": 3,
   "metadata": {},
   "outputs": [
    {
     "data": {
      "text/html": [
       "<div>\n",
       "<style scoped>\n",
       "    .dataframe tbody tr th:only-of-type {\n",
       "        vertical-align: middle;\n",
       "    }\n",
       "\n",
       "    .dataframe tbody tr th {\n",
       "        vertical-align: top;\n",
       "    }\n",
       "\n",
       "    .dataframe thead th {\n",
       "        text-align: right;\n",
       "    }\n",
       "</style>\n",
       "<table border=\"1\" class=\"dataframe\">\n",
       "  <thead>\n",
       "    <tr style=\"text-align: right;\">\n",
       "      <th></th>\n",
       "      <th>rating</th>\n",
       "    </tr>\n",
       "  </thead>\n",
       "  <tbody>\n",
       "    <tr>\n",
       "      <th>count</th>\n",
       "      <td>11772.000000</td>\n",
       "    </tr>\n",
       "    <tr>\n",
       "      <th>mean</th>\n",
       "      <td>3.473242</td>\n",
       "    </tr>\n",
       "    <tr>\n",
       "      <th>std</th>\n",
       "      <td>1.523039</td>\n",
       "    </tr>\n",
       "    <tr>\n",
       "      <th>min</th>\n",
       "      <td>1.000000</td>\n",
       "    </tr>\n",
       "    <tr>\n",
       "      <th>25%</th>\n",
       "      <td>2.000000</td>\n",
       "    </tr>\n",
       "    <tr>\n",
       "      <th>50%</th>\n",
       "      <td>4.000000</td>\n",
       "    </tr>\n",
       "    <tr>\n",
       "      <th>75%</th>\n",
       "      <td>5.000000</td>\n",
       "    </tr>\n",
       "    <tr>\n",
       "      <th>max</th>\n",
       "      <td>5.000000</td>\n",
       "    </tr>\n",
       "  </tbody>\n",
       "</table>\n",
       "</div>"
      ],
      "text/plain": [
       "             rating\n",
       "count  11772.000000\n",
       "mean       3.473242\n",
       "std        1.523039\n",
       "min        1.000000\n",
       "25%        2.000000\n",
       "50%        4.000000\n",
       "75%        5.000000\n",
       "max        5.000000"
      ]
     },
     "execution_count": 3,
     "metadata": {},
     "output_type": "execute_result"
    }
   ],
   "source": [
    "data.describe()"
   ]
  },
  {
   "cell_type": "code",
   "execution_count": 4,
   "metadata": {},
   "outputs": [
    {
     "data": {
      "text/plain": [
       "web_pid      11772\n",
       "title        11771\n",
       "text         11758\n",
       "rating       11772\n",
       "text.1       11772\n",
       "sentiment    11772\n",
       "dtype: int64"
      ]
     },
     "execution_count": 4,
     "metadata": {},
     "output_type": "execute_result"
    }
   ],
   "source": [
    "data.count()"
   ]
  },
  {
   "cell_type": "code",
   "execution_count": 5,
   "metadata": {},
   "outputs": [
    {
     "data": {
      "text/html": [
       "<div>\n",
       "<style scoped>\n",
       "    .dataframe tbody tr th:only-of-type {\n",
       "        vertical-align: middle;\n",
       "    }\n",
       "\n",
       "    .dataframe tbody tr th {\n",
       "        vertical-align: top;\n",
       "    }\n",
       "\n",
       "    .dataframe thead th {\n",
       "        text-align: right;\n",
       "    }\n",
       "</style>\n",
       "<table border=\"1\" class=\"dataframe\">\n",
       "  <thead>\n",
       "    <tr style=\"text-align: right;\">\n",
       "      <th></th>\n",
       "      <th>web_pid</th>\n",
       "      <th>title</th>\n",
       "      <th>text</th>\n",
       "      <th>rating</th>\n",
       "      <th>text.1</th>\n",
       "      <th>sentiment</th>\n",
       "    </tr>\n",
       "  </thead>\n",
       "  <tbody>\n",
       "    <tr>\n",
       "      <th>0</th>\n",
       "      <td>B0725RDJCQ</td>\n",
       "      <td>Five Stars</td>\n",
       "      <td>Very good quality and ordered L, it fits as ex...</td>\n",
       "      <td>5</td>\n",
       "      <td>Five StarsVery good quality and ordered L, it ...</td>\n",
       "      <td>Positive</td>\n",
       "    </tr>\n",
       "    <tr>\n",
       "      <th>1</th>\n",
       "      <td>B0725RDJCQ</td>\n",
       "      <td>The quality of fabrics is not good. According ...</td>\n",
       "      <td>The quality of fabrics is not good . According...</td>\n",
       "      <td>3</td>\n",
       "      <td>The quality of fabrics is not good. According ...</td>\n",
       "      <td>Neutral</td>\n",
       "    </tr>\n",
       "    <tr>\n",
       "      <th>2</th>\n",
       "      <td>B0725RDJCQ</td>\n",
       "      <td>Very good</td>\n",
       "      <td>I ordered this from paytm .good quality produc...</td>\n",
       "      <td>4</td>\n",
       "      <td>Very goodI ordered this from paytm .good quali...</td>\n",
       "      <td>Positive</td>\n",
       "    </tr>\n",
       "    <tr>\n",
       "      <th>3</th>\n",
       "      <td>B0725RDJCQ</td>\n",
       "      <td>Bad quality</td>\n",
       "      <td>Product looks same as in the image but its not...</td>\n",
       "      <td>2</td>\n",
       "      <td>Bad qualityProduct looks same as in the image ...</td>\n",
       "      <td>Negative</td>\n",
       "    </tr>\n",
       "    <tr>\n",
       "      <th>4</th>\n",
       "      <td>B071H63TH5</td>\n",
       "      <td>Very bad print and 3rd clasd</td>\n",
       "      <td>Print very bad</td>\n",
       "      <td>1</td>\n",
       "      <td>Very bad print and 3rd clasdPrint very bad</td>\n",
       "      <td>Negative</td>\n",
       "    </tr>\n",
       "  </tbody>\n",
       "</table>\n",
       "</div>"
      ],
      "text/plain": [
       "      web_pid                                              title  \\\n",
       "0  B0725RDJCQ                                         Five Stars   \n",
       "1  B0725RDJCQ  The quality of fabrics is not good. According ...   \n",
       "2  B0725RDJCQ                                          Very good   \n",
       "3  B0725RDJCQ                                        Bad quality   \n",
       "4  B071H63TH5                       Very bad print and 3rd clasd   \n",
       "\n",
       "                                                text  rating  \\\n",
       "0  Very good quality and ordered L, it fits as ex...       5   \n",
       "1  The quality of fabrics is not good . According...       3   \n",
       "2  I ordered this from paytm .good quality produc...       4   \n",
       "3  Product looks same as in the image but its not...       2   \n",
       "4                                     Print very bad       1   \n",
       "\n",
       "                                              text.1 sentiment  \n",
       "0  Five StarsVery good quality and ordered L, it ...  Positive  \n",
       "1  The quality of fabrics is not good. According ...   Neutral  \n",
       "2  Very goodI ordered this from paytm .good quali...  Positive  \n",
       "3  Bad qualityProduct looks same as in the image ...  Negative  \n",
       "4         Very bad print and 3rd clasdPrint very bad  Negative  "
      ]
     },
     "execution_count": 5,
     "metadata": {},
     "output_type": "execute_result"
    }
   ],
   "source": [
    "data.head()"
   ]
  },
  {
   "cell_type": "code",
   "execution_count": 6,
   "metadata": {},
   "outputs": [],
   "source": [
    "data = data.drop('title',axis=1)"
   ]
  },
  {
   "cell_type": "code",
   "execution_count": 7,
   "metadata": {},
   "outputs": [],
   "source": [
    "data = data.drop('text',axis=1)"
   ]
  },
  {
   "cell_type": "code",
   "execution_count": 8,
   "metadata": {},
   "outputs": [],
   "source": [
    "data.columns = ['web_pid','rating','text','sentiment']"
   ]
  },
  {
   "cell_type": "code",
   "execution_count": 9,
   "metadata": {},
   "outputs": [
    {
     "data": {
      "text/html": [
       "<div>\n",
       "<style scoped>\n",
       "    .dataframe tbody tr th:only-of-type {\n",
       "        vertical-align: middle;\n",
       "    }\n",
       "\n",
       "    .dataframe tbody tr th {\n",
       "        vertical-align: top;\n",
       "    }\n",
       "\n",
       "    .dataframe thead th {\n",
       "        text-align: right;\n",
       "    }\n",
       "</style>\n",
       "<table border=\"1\" class=\"dataframe\">\n",
       "  <thead>\n",
       "    <tr style=\"text-align: right;\">\n",
       "      <th></th>\n",
       "      <th>web_pid</th>\n",
       "      <th>rating</th>\n",
       "      <th>text</th>\n",
       "      <th>sentiment</th>\n",
       "    </tr>\n",
       "  </thead>\n",
       "  <tbody>\n",
       "    <tr>\n",
       "      <th>0</th>\n",
       "      <td>B0725RDJCQ</td>\n",
       "      <td>5</td>\n",
       "      <td>Five StarsVery good quality and ordered L, it ...</td>\n",
       "      <td>Positive</td>\n",
       "    </tr>\n",
       "    <tr>\n",
       "      <th>1</th>\n",
       "      <td>B0725RDJCQ</td>\n",
       "      <td>3</td>\n",
       "      <td>The quality of fabrics is not good. According ...</td>\n",
       "      <td>Neutral</td>\n",
       "    </tr>\n",
       "    <tr>\n",
       "      <th>2</th>\n",
       "      <td>B0725RDJCQ</td>\n",
       "      <td>4</td>\n",
       "      <td>Very goodI ordered this from paytm .good quali...</td>\n",
       "      <td>Positive</td>\n",
       "    </tr>\n",
       "    <tr>\n",
       "      <th>3</th>\n",
       "      <td>B0725RDJCQ</td>\n",
       "      <td>2</td>\n",
       "      <td>Bad qualityProduct looks same as in the image ...</td>\n",
       "      <td>Negative</td>\n",
       "    </tr>\n",
       "    <tr>\n",
       "      <th>4</th>\n",
       "      <td>B071H63TH5</td>\n",
       "      <td>1</td>\n",
       "      <td>Very bad print and 3rd clasdPrint very bad</td>\n",
       "      <td>Negative</td>\n",
       "    </tr>\n",
       "    <tr>\n",
       "      <th>...</th>\n",
       "      <td>...</td>\n",
       "      <td>...</td>\n",
       "      <td>...</td>\n",
       "      <td>...</td>\n",
       "    </tr>\n",
       "    <tr>\n",
       "      <th>11767</th>\n",
       "      <td>B07CN14HW8</td>\n",
       "      <td>4</td>\n",
       "      <td>Four StarsExcellent...</td>\n",
       "      <td>Positive</td>\n",
       "    </tr>\n",
       "    <tr>\n",
       "      <th>11768</th>\n",
       "      <td>B07CN14HW8</td>\n",
       "      <td>4</td>\n",
       "      <td>Four StarsGood product</td>\n",
       "      <td>Positive</td>\n",
       "    </tr>\n",
       "    <tr>\n",
       "      <th>11769</th>\n",
       "      <td>B07CN14HW8</td>\n",
       "      <td>5</td>\n",
       "      <td>Good productAwesome product, liked very much. ...</td>\n",
       "      <td>Positive</td>\n",
       "    </tr>\n",
       "    <tr>\n",
       "      <th>11770</th>\n",
       "      <td>B07CN14HW8</td>\n",
       "      <td>4</td>\n",
       "      <td>Four StarsGood product acording to price range...</td>\n",
       "      <td>Positive</td>\n",
       "    </tr>\n",
       "    <tr>\n",
       "      <th>11771</th>\n",
       "      <td>B07CN14HW8</td>\n",
       "      <td>2</td>\n",
       "      <td>Vary Costly metireal difference at thisVary Co...</td>\n",
       "      <td>Negative</td>\n",
       "    </tr>\n",
       "  </tbody>\n",
       "</table>\n",
       "<p>11772 rows × 4 columns</p>\n",
       "</div>"
      ],
      "text/plain": [
       "          web_pid  rating                                               text  \\\n",
       "0      B0725RDJCQ       5  Five StarsVery good quality and ordered L, it ...   \n",
       "1      B0725RDJCQ       3  The quality of fabrics is not good. According ...   \n",
       "2      B0725RDJCQ       4  Very goodI ordered this from paytm .good quali...   \n",
       "3      B0725RDJCQ       2  Bad qualityProduct looks same as in the image ...   \n",
       "4      B071H63TH5       1         Very bad print and 3rd clasdPrint very bad   \n",
       "...           ...     ...                                                ...   \n",
       "11767  B07CN14HW8       4                             Four StarsExcellent...   \n",
       "11768  B07CN14HW8       4                             Four StarsGood product   \n",
       "11769  B07CN14HW8       5  Good productAwesome product, liked very much. ...   \n",
       "11770  B07CN14HW8       4  Four StarsGood product acording to price range...   \n",
       "11771  B07CN14HW8       2  Vary Costly metireal difference at thisVary Co...   \n",
       "\n",
       "      sentiment  \n",
       "0      Positive  \n",
       "1       Neutral  \n",
       "2      Positive  \n",
       "3      Negative  \n",
       "4      Negative  \n",
       "...         ...  \n",
       "11767  Positive  \n",
       "11768  Positive  \n",
       "11769  Positive  \n",
       "11770  Positive  \n",
       "11771  Negative  \n",
       "\n",
       "[11772 rows x 4 columns]"
      ]
     },
     "execution_count": 9,
     "metadata": {},
     "output_type": "execute_result"
    }
   ],
   "source": [
    "data"
   ]
  },
  {
   "cell_type": "code",
   "execution_count": 10,
   "metadata": {},
   "outputs": [],
   "source": [
    "import seaborn as sns\n",
    "import matplotlib.pyplot as plt"
   ]
  },
  {
   "cell_type": "code",
   "execution_count": 11,
   "metadata": {},
   "outputs": [
    {
     "data": {
      "text/plain": [
       "web_pid      0.0\n",
       "rating       0.0\n",
       "text         0.0\n",
       "sentiment    0.0\n",
       "dtype: float64"
      ]
     },
     "execution_count": 11,
     "metadata": {},
     "output_type": "execute_result"
    }
   ],
   "source": [
    "(len(data)-data.count())/len(data)"
   ]
  },
  {
   "cell_type": "code",
   "execution_count": 12,
   "metadata": {},
   "outputs": [
    {
     "data": {
      "image/png": "[encoded data removed]",
      "text/plain": [
       "<Figure size 432x288 with 1 Axes>"
      ]
     },
     "metadata": {
      "needs_background": "light"
     },
     "output_type": "display_data"
    }
   ],
   "source": [
    "sns.countplot(x='sentiment',data=data)\n",
    "plt.show()\n"
   ]
  },
  {
   "cell_type": "code",
   "execution_count": 13,
   "metadata": {},
   "outputs": [
    {
     "name": "stderr",
     "output_type": "stream",
     "text": [
      "C:\\Users\\gondr\\anaconda3\\envs\\vishnu\\lib\\site-packages\\seaborn\\categorical.py:3717: UserWarning: The `factorplot` function has been renamed to `catplot`. The original name will be removed in a future release. Please update your code. Note that the default `kind` in `factorplot` (`'point'`) has changed `'strip'` in `catplot`.\n",
      "  warnings.warn(msg)\n",
      "C:\\Users\\gondr\\anaconda3\\envs\\vishnu\\lib\\site-packages\\seaborn\\categorical.py:3723: UserWarning: The `size` parameter has been renamed to `height`; please update your code.\n",
      "  warnings.warn(msg, UserWarning)\n"
     ]
    },
    {
     "data": {
      "image/png": "[encoded data removed]",
      "text/plain": [
       "<Figure size 518.4x576 with 5 Axes>"
      ]
     },
     "metadata": {
      "needs_background": "light"
     },
     "output_type": "display_data"
    }
   ],
   "source": [
    "sns.factorplot(x = 'sentiment',data=data,order=['Negative','Neutral','Positive'],\n",
    "               kind = 'count',col_wrap=3,col='rating',size=4,aspect=0.6,sharex=False,sharey=False)\n",
    "plt.show()"
   ]
  },
  {
   "cell_type": "code",
   "execution_count": 14,
   "metadata": {},
   "outputs": [],
   "source": [
    "import re\n",
    "from nltk.corpus import stopwords\n",
    "from sklearn.feature_extraction.text import TfidfVectorizer"
   ]
  },
  {
   "cell_type": "code",
   "execution_count": 15,
   "metadata": {},
   "outputs": [],
   "source": [
    "#remove words which are starts with @ symbols\n",
    "data['text'] = data['text'].map(lambda x:re.sub('@\\w*','',str(x)))\n",
    "#remove link starts with https\n",
    "data['text'] = data['text'].map(lambda x:re.sub('http.*','',str(x)))\n",
    "#removing data and time (numeric values)\n",
    "data['text'] = data['text'].map(lambda x:re.sub('[0-9]','',str(x)))\n",
    "#removing special characters\n",
    "data['text'] = data['text'].map(lambda x:re.sub('[#|*|$|:|\\\\|&]','',str(x)))"
   ]
  },
  {
   "cell_type": "code",
   "execution_count": 16,
   "metadata": {},
   "outputs": [
    {
     "data": {
      "text/html": [
       "<div>\n",
       "<style scoped>\n",
       "    .dataframe tbody tr th:only-of-type {\n",
       "        vertical-align: middle;\n",
       "    }\n",
       "\n",
       "    .dataframe tbody tr th {\n",
       "        vertical-align: top;\n",
       "    }\n",
       "\n",
       "    .dataframe thead th {\n",
       "        text-align: right;\n",
       "    }\n",
       "</style>\n",
       "<table border=\"1\" class=\"dataframe\">\n",
       "  <thead>\n",
       "    <tr style=\"text-align: right;\">\n",
       "      <th></th>\n",
       "      <th>web_pid</th>\n",
       "      <th>rating</th>\n",
       "      <th>text</th>\n",
       "      <th>sentiment</th>\n",
       "    </tr>\n",
       "  </thead>\n",
       "  <tbody>\n",
       "    <tr>\n",
       "      <th>0</th>\n",
       "      <td>B0725RDJCQ</td>\n",
       "      <td>5</td>\n",
       "      <td>Five StarsVery good quality and ordered L, it ...</td>\n",
       "      <td>Positive</td>\n",
       "    </tr>\n",
       "    <tr>\n",
       "      <th>1</th>\n",
       "      <td>B0725RDJCQ</td>\n",
       "      <td>3</td>\n",
       "      <td>The quality of fabrics is not good. According ...</td>\n",
       "      <td>Neutral</td>\n",
       "    </tr>\n",
       "    <tr>\n",
       "      <th>2</th>\n",
       "      <td>B0725RDJCQ</td>\n",
       "      <td>4</td>\n",
       "      <td>Very goodI ordered this from paytm .good quali...</td>\n",
       "      <td>Positive</td>\n",
       "    </tr>\n",
       "    <tr>\n",
       "      <th>3</th>\n",
       "      <td>B0725RDJCQ</td>\n",
       "      <td>2</td>\n",
       "      <td>Bad qualityProduct looks same as in the image ...</td>\n",
       "      <td>Negative</td>\n",
       "    </tr>\n",
       "    <tr>\n",
       "      <th>4</th>\n",
       "      <td>B071H63TH5</td>\n",
       "      <td>1</td>\n",
       "      <td>Very bad print and rd clasdPrint very bad</td>\n",
       "      <td>Negative</td>\n",
       "    </tr>\n",
       "  </tbody>\n",
       "</table>\n",
       "</div>"
      ],
      "text/plain": [
       "      web_pid  rating                                               text  \\\n",
       "0  B0725RDJCQ       5  Five StarsVery good quality and ordered L, it ...   \n",
       "1  B0725RDJCQ       3  The quality of fabrics is not good. According ...   \n",
       "2  B0725RDJCQ       4  Very goodI ordered this from paytm .good quali...   \n",
       "3  B0725RDJCQ       2  Bad qualityProduct looks same as in the image ...   \n",
       "4  B071H63TH5       1          Very bad print and rd clasdPrint very bad   \n",
       "\n",
       "  sentiment  \n",
       "0  Positive  \n",
       "1   Neutral  \n",
       "2  Positive  \n",
       "3  Negative  \n",
       "4  Negative  "
      ]
     },
     "execution_count": 16,
     "metadata": {},
     "output_type": "execute_result"
    }
   ],
   "source": [
    "data.head()"
   ]
  },
  {
   "cell_type": "code",
   "execution_count": 17,
   "metadata": {},
   "outputs": [],
   "source": [
    "import numpy as np\n",
    "data.text.fillna('ok')\n",
    "col_mask=data.isnull().any(axis=0) "
   ]
  },
  {
   "cell_type": "code",
   "execution_count": 18,
   "metadata": {},
   "outputs": [
    {
     "data": {
      "text/plain": [
       "web_pid      False\n",
       "rating       False\n",
       "text         False\n",
       "sentiment    False\n",
       "dtype: bool"
      ]
     },
     "execution_count": 18,
     "metadata": {},
     "output_type": "execute_result"
    }
   ],
   "source": [
    "col_mask"
   ]
  },
  {
   "cell_type": "code",
   "execution_count": 19,
   "metadata": {},
   "outputs": [],
   "source": [
    "#preparing train data\n",
    "#removing stopwords and tokenizing it.\n",
    "stop=stopwords.words('english')\n",
    "text=[]\n",
    "none=data['text'].map(lambda x:text.append(' '.join\n",
    "       ([word for word in str(x).strip().split() if not word in set(stop)])))\n",
    "tfid=TfidfVectorizer(strip_accents=None,lowercase=False,preprocessor=None)\n",
    "x_features=tfid.fit_transform(text).toarray()"
   ]
  },
  {
   "cell_type": "code",
   "execution_count": 20,
   "metadata": {},
   "outputs": [
    {
     "data": {
      "text/plain": [
       "True"
      ]
     },
     "execution_count": 20,
     "metadata": {},
     "output_type": "execute_result"
    }
   ],
   "source": [
    "np.isfinite(x_features.all())\n"
   ]
  },
  {
   "cell_type": "code",
   "execution_count": 21,
   "metadata": {},
   "outputs": [],
   "source": [
    "#preparing target variable\n",
    "y=data['sentiment']\n",
    "y=pd.DataFrame(y,columns=['sentiment'])\n",
    "y = y['sentiment'].map({'Neutral':0,'Negative':-1,'Positive':1})"
   ]
  },
  {
   "cell_type": "code",
   "execution_count": 22,
   "metadata": {},
   "outputs": [
    {
     "data": {
      "text/plain": [
       "array([], shape=(0, 2), dtype=int64)"
      ]
     },
     "execution_count": 22,
     "metadata": {},
     "output_type": "execute_result"
    }
   ],
   "source": [
    "np.isfinite(y.all())\n",
    "np.argwhere(np.isnan(x_features))"
   ]
  },
  {
   "cell_type": "code",
   "execution_count": 23,
   "metadata": {},
   "outputs": [],
   "source": [
    "#training with Logistic Regression\n",
    "from sklearn.linear_model import LogisticRegression as lg\n",
    "from sklearn.model_selection import cross_val_score"
   ]
  },
  {
   "cell_type": "code",
   "execution_count": 24,
   "metadata": {},
   "outputs": [
    {
     "data": {
      "text/plain": [
       "array([0.90063694, 0.90573248, 0.91163976, 0.89932031, 0.90356839])"
      ]
     },
     "execution_count": 24,
     "metadata": {},
     "output_type": "execute_result"
    }
   ],
   "source": [
    "clf=lg()\n",
    "acc=cross_val_score(estimator=clf,X=x_features,y=y,cv=5)\n",
    "acc"
   ]
  },
  {
   "cell_type": "code",
   "execution_count": 25,
   "metadata": {},
   "outputs": [
    {
     "data": {
      "text/plain": [
       "LogisticRegression()"
      ]
     },
     "execution_count": 25,
     "metadata": {},
     "output_type": "execute_result"
    }
   ],
   "source": [
    "from sklearn.model_selection import train_test_split\n",
    "X_train,X_test,Y_train,Y_test = train_test_split(x_features,y, test_size=0.2,random_state=2)\n",
    "clf.fit(X_train,Y_train)"
   ]
  },
  {
   "cell_type": "code",
   "execution_count": 26,
   "metadata": {},
   "outputs": [
    {
     "data": {
      "text/plain": [
       "array([ 1,  1,  1, ..., -1,  1, -1], dtype=int64)"
      ]
     },
     "execution_count": 26,
     "metadata": {},
     "output_type": "execute_result"
    }
   ],
   "source": [
    "clf.predict(X_test)"
   ]
  },
  {
   "cell_type": "code",
   "execution_count": 27,
   "metadata": {},
   "outputs": [
    {
     "name": "stdout",
     "output_type": "stream",
     "text": [
      "Accuracy of logistic regression classifier on test set: 0.89\n"
     ]
    }
   ],
   "source": [
    "print('Accuracy of logistic regression classifier on test set: {:.2f}'.format(clf.score(X_test, Y_test)))"
   ]
  },
  {
   "cell_type": "code",
   "execution_count": 28,
   "metadata": {},
   "outputs": [],
   "source": [
    "#lets dig deeper and apply Deep learning for better accuracy\n",
    "from keras.models import Sequential\n",
    "from keras.layers import Flatten, Dense\n",
    "from keras import regularizers\n",
    "from keras.layers import Dropout"
   ]
  },
  {
   "cell_type": "code",
   "execution_count": 29,
   "metadata": {},
   "outputs": [],
   "source": [
    "# Transforming our target vatiable\n",
    "from sklearn.preprocessing import OneHotEncoder"
   ]
  },
  {
   "cell_type": "code",
   "execution_count": 30,
   "metadata": {},
   "outputs": [
    {
     "data": {
      "text/plain": [
       "0        1\n",
       "1        0\n",
       "2        1\n",
       "3       -1\n",
       "4       -1\n",
       "        ..\n",
       "11767    1\n",
       "11768    1\n",
       "11769    1\n",
       "11770    1\n",
       "11771   -1\n",
       "Name: sentiment, Length: 11772, dtype: int64"
      ]
     },
     "execution_count": 30,
     "metadata": {},
     "output_type": "execute_result"
    }
   ],
   "source": [
    "y"
   ]
  },
  {
   "cell_type": "code",
   "execution_count": 31,
   "metadata": {},
   "outputs": [],
   "source": [
    "onehotencoder=OneHotEncoder()\n",
    "target=y.values\n",
    "target=target.reshape(-1,1)\n",
    "target=onehotencoder.fit_transform(target).toarray()"
   ]
  },
  {
   "cell_type": "code",
   "execution_count": 32,
   "metadata": {},
   "outputs": [
    {
     "data": {
      "text/html": [
       "<div>\n",
       "<style scoped>\n",
       "    .dataframe tbody tr th:only-of-type {\n",
       "        vertical-align: middle;\n",
       "    }\n",
       "\n",
       "    .dataframe tbody tr th {\n",
       "        vertical-align: top;\n",
       "    }\n",
       "\n",
       "    .dataframe thead th {\n",
       "        text-align: right;\n",
       "    }\n",
       "</style>\n",
       "<table border=\"1\" class=\"dataframe\">\n",
       "  <thead>\n",
       "    <tr style=\"text-align: right;\">\n",
       "      <th></th>\n",
       "      <th>negative</th>\n",
       "      <th>neutral</th>\n",
       "      <th>positive</th>\n",
       "    </tr>\n",
       "  </thead>\n",
       "  <tbody>\n",
       "    <tr>\n",
       "      <th>0</th>\n",
       "      <td>0.0</td>\n",
       "      <td>0.0</td>\n",
       "      <td>1.0</td>\n",
       "    </tr>\n",
       "    <tr>\n",
       "      <th>1</th>\n",
       "      <td>0.0</td>\n",
       "      <td>1.0</td>\n",
       "      <td>0.0</td>\n",
       "    </tr>\n",
       "    <tr>\n",
       "      <th>2</th>\n",
       "      <td>0.0</td>\n",
       "      <td>0.0</td>\n",
       "      <td>1.0</td>\n",
       "    </tr>\n",
       "    <tr>\n",
       "      <th>3</th>\n",
       "      <td>1.0</td>\n",
       "      <td>0.0</td>\n",
       "      <td>0.0</td>\n",
       "    </tr>\n",
       "    <tr>\n",
       "      <th>4</th>\n",
       "      <td>1.0</td>\n",
       "      <td>0.0</td>\n",
       "      <td>0.0</td>\n",
       "    </tr>\n",
       "  </tbody>\n",
       "</table>\n",
       "</div>"
      ],
      "text/plain": [
       "   negative  neutral  positive\n",
       "0       0.0      0.0       1.0\n",
       "1       0.0      1.0       0.0\n",
       "2       0.0      0.0       1.0\n",
       "3       1.0      0.0       0.0\n",
       "4       1.0      0.0       0.0"
      ]
     },
     "execution_count": 32,
     "metadata": {},
     "output_type": "execute_result"
    }
   ],
   "source": [
    "target=pd.DataFrame(data=target,columns=['negative','neutral','positive'])\n",
    "target.head()"
   ]
  },
  {
   "cell_type": "code",
   "execution_count": 33,
   "metadata": {},
   "outputs": [
    {
     "name": "stdout",
     "output_type": "stream",
     "text": [
      "Epoch 1/4\n",
      "368/368 [==============================] - 565s 2s/step - loss: 5.7816 - accuracy: 0.8727\n",
      "Epoch 2/4\n",
      "368/368 [==============================] - 532s 1s/step - loss: 0.5022 - accuracy: 0.9122\n",
      "Epoch 3/4\n",
      "368/368 [==============================] - 463s 1s/step - loss: 0.3972 - accuracy: 0.9329\n",
      "Epoch 4/4\n",
      "368/368 [==============================] - 458s 1s/step - loss: 0.3195 - accuracy: 0.9495\n"
     ]
    },
    {
     "data": {
      "text/plain": [
       "<keras.callbacks.History at 0x1b2d4af1b88>"
      ]
     },
     "execution_count": 33,
     "metadata": {},
     "output_type": "execute_result"
    }
   ],
   "source": [
    "nn=Sequential()\n",
    "#adding layers to ANN\n",
    "nn.add(Dense(units=5012,activation=\"relu\",kernel_initializer=\"uniform\",kernel_regularizer=regularizers.l2(0.001),input_dim=10186))\n",
    "nn#adding two more hidden layer to ANN\n",
    "nn.add(Dense(units=5012,activation=\"relu\",kernel_initializer=\"uniform\",kernel_regularizer=regularizers.l2(0.001)))\n",
    "nn.add(Dropout(0.5))\n",
    "nn.add(Dense(units=5012,activation=\"relu\",kernel_initializer=\"uniform\",kernel_regularizer=regularizers.l2(0.001)))\n",
    "nn.add(Dropout(0.5))\n",
    "#adding output layer\n",
    "nn.add(Dense(units=3,activation=\"softmax\",kernel_initializer=\"uniform\"))\n",
    "#compiling ANN\n",
    "nn.compile(optimizer='adam',loss='categorical_crossentropy',metrics=['accuracy'])\n",
    "\n",
    "#fitting ANN\n",
    "nn.fit(x_features,target,batch_size=32,epochs=4)\n"
   ]
  },
  {
   "cell_type": "code",
   "execution_count": null,
   "metadata": {},
   "outputs": [],
   "source": []
  }
 ],
 "metadata": {
  "kernelspec": {
   "display_name": "vishnu",
   "language": "python",
   "name": "vishnu"
  },
  "language_info": {
   "codemirror_mode": {
    "name": "ipython",
    "version": 3
   },
   "file_extension": ".py",
   "mimetype": "text/x-python",
   "name": "python",
   "nbconvert_exporter": "python",
   "pygments_lexer": "ipython3",
   "version": "3.7.11"
  }
 },
 "nbformat": 4,
 "nbformat_minor": 2
}
